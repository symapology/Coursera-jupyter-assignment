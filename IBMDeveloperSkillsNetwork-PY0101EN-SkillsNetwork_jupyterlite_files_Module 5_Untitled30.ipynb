{
  "metadata": {
    "language_info": {
      "codemirror_mode": {
        "name": "python",
        "version": 3
      },
      "file_extension": ".py",
      "mimetype": "text/x-python",
      "name": "python",
      "nbconvert_exporter": "python",
      "pygments_lexer": "ipython3",
      "version": "3.8"
    },
    "kernelspec": {
      "name": "python",
      "display_name": "Pyolite",
      "language": "python"
    }
  },
  "nbformat_minor": 4,
  "nbformat": 4,
  "cells": [
    {
      "cell_type": "code",
      "source": "name = 'Lizz'\nprint(name[0:2])",
      "metadata": {
        "trusted": true
      },
      "execution_count": 2,
      "outputs": [
        {
          "name": "stdout",
          "text": "Li\n",
          "output_type": "stream"
        }
      ]
    },
    {
      "cell_type": "code",
      "source": "'1,2,3,4'.split(',')\n",
      "metadata": {
        "trusted": true
      },
      "execution_count": 3,
      "outputs": [
        {
          "execution_count": 3,
          "output_type": "execute_result",
          "data": {
            "text/plain": "['1', '2', '3', '4']"
          },
          "metadata": {}
        }
      ]
    },
    {
      "cell_type": "code",
      "source": "\nif(x!=1): \n\n    print('Hello') \n\n else: \n\n    print('Hi') \n\n print('Mike') ",
      "metadata": {
        "trusted": true
      },
      "execution_count": null,
      "outputs": []
    },
    {
      "cell_type": "code",
      "source": "  ",
      "metadata": {},
      "execution_count": null,
      "outputs": []
    },
    {
      "cell_type": "code",
      "source": "class Rectangle(object):\n        def __init__(self,width=2,height =3,color='r'):\n                                  self.height=height\n                                  self.width=width\n                                  self.color=color\n    def drawRectangle(self):\n                       import matplotlib.pyplot as plt\n                       plt.gca().add_patch(plt.Rectangle((0, 0),self.width, self.height ,fc=self.color))\n                       plt.axis('scaled')\n                       plt.show()",
      "metadata": {
        "trusted": true
      },
      "execution_count": null,
      "outputs": []
    },
    {
      "cell_type": "code",
      "source": "",
      "metadata": {},
      "execution_count": null,
      "outputs": []
    }
  ]
}
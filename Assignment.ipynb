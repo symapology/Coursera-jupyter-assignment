{
 "cells": [
  {
   "cell_type": "markdown",
   "metadata": {
    "collapsed": true
   },
   "source": [
    "<h1>Header 1,My Jupyter Notebook on IBM Watson Studio<h1>"
   ]
  },
  {
   "cell_type": "markdown",
   "metadata": {},
   "source": [
    "<b>Opeyemi</b>\n",
    ">Data Science"
   ]
  },
  {
   "cell_type": "markdown",
   "metadata": {},
   "source": [
    "<i>I am interested in data scientist because I want to use the knowledge to benefit my country</i>"
   ]
  },
  {
   "cell_type": "markdown",
   "metadata": {},
   "source": [
    "<h3>Header 3,multiplication table code<h3>"
   ]
  },
  {
   "cell_type": "code",
   "execution_count": 1,
   "metadata": {
    "scrolled": true
   },
   "outputs": [
    {
     "name": "stdout",
     "output_type": "stream",
     "text": [
      "Enter the multiplication table number10\n",
      "The multiplication table of: 10\n",
      "10 x 10\n",
      "10 x 20\n",
      "10 x 30\n",
      "10 x 40\n",
      "10 x 50\n",
      "10 x 60\n",
      "10 x 70\n",
      "10 x 80\n",
      "10 x 90\n",
      "10 x 100\n"
     ]
    }
   ],
   "source": [
    "num=int(input(\"Enter the multiplication table number\"))\n",
    "#Using for loop statement for the line of code\n",
    "print(\"The multiplication table of:\",num)\n",
    "for count in range(1,11):\n",
    "    print(num,'x',num*count)"
   ]
  },
  {
   "cell_type": "markdown",
   "metadata": {},
   "source": [
    "<ol>\n",
    "<li>Python</li>\n",
    "<li>Rprogram</li>\n",
    "<li>SPSS</li>\n",
    "<li>watson studio</li>\n",
    "</ol>\n",
    "\n",
    "<a> href=\"https://www.coursera.com\">Link to coursera</a>\n",
    "\n",
    "<ul>\n",
    "<li>One</li>\n",
    "<li>Two</li>\n",
    "<li>Three</li>\n",
    "<li>Four</li>\n",
    "<li>Five</li>\n",
    "</ul>\n",
    "\n"
   ]
  },
  {
   "cell_type": "code",
   "execution_count": null,
   "metadata": {},
   "outputs": [],
   "source": []
  }
 ],
 "metadata": {
  "kernelspec": {
   "display_name": "Python 3.9",
   "language": "python",
   "name": "python3"
  },
  "language_info": {
   "codemirror_mode": {
    "name": "ipython",
    "version": 3
   },
   "file_extension": ".py",
   "mimetype": "text/x-python",
   "name": "python",
   "nbconvert_exporter": "python",
   "pygments_lexer": "ipython3",
   "version": "3.9.13"
  }
 },
 "nbformat": 4,
 "nbformat_minor": 1
}
